{
 "cells": [
  {
   "cell_type": "markdown",
   "id": "7ca8c294",
   "metadata": {},
   "source": [
    "NLP: Decentralised Music Streaming Platform : Version1 "
   ]
  },
  {
   "cell_type": "code",
   "execution_count": 1,
   "id": "c88f5ee4",
   "metadata": {},
   "outputs": [],
   "source": [
    "import os"
   ]
  },
  {
   "cell_type": "code",
   "execution_count": 2,
   "id": "db890a37",
   "metadata": {
    "scrolled": true
   },
   "outputs": [
    {
     "name": "stdout",
     "output_type": "stream",
     "text": [
      "INFO:tensorflow:Using config: {'_model_dir': 'pretrained_models\\\\2stems', '_tf_random_seed': None, '_save_summary_steps': 100, '_save_checkpoints_steps': None, '_save_checkpoints_secs': 600, '_session_config': gpu_options {\n",
      "  per_process_gpu_memory_fraction: 0.7\n",
      "}\n",
      ", '_keep_checkpoint_max': 5, '_keep_checkpoint_every_n_hours': 10000, '_log_step_count_steps': 100, '_train_distribute': None, '_device_fn': None, '_protocol': None, '_eval_distribute': None, '_experimental_distribute': None, '_experimental_max_worker_delay_secs': None, '_session_creation_timeout_secs': 7200, '_checkpoint_save_graph_def': True, '_service': None, '_cluster_spec': ClusterSpec({}), '_task_type': 'worker', '_task_id': 0, '_global_id_in_cluster': 0, '_master': '', '_evaluation_master': '', '_is_chief': True, '_num_ps_replicas': 0, '_num_worker_replicas': 1}\n",
      "WARNING:tensorflow:From C:\\Users\\Lenovo\\AppData\\Roaming\\Python\\Python39\\site-packages\\spleeter\\separator.py:146: calling DatasetV2.from_generator (from tensorflow.python.data.ops.dataset_ops) with output_types is deprecated and will be removed in a future version.\n",
      "Instructions for updating:\n",
      "Use output_signature instead\n",
      "WARNING:tensorflow:From C:\\Users\\Lenovo\\AppData\\Roaming\\Python\\Python39\\site-packages\\spleeter\\separator.py:146: calling DatasetV2.from_generator (from tensorflow.python.data.ops.dataset_ops) with output_shapes is deprecated and will be removed in a future version.\n",
      "Instructions for updating:\n",
      "Use output_signature instead\n",
      "INFO:tensorflow:Calling model_fn.\n",
      "INFO:tensorflow:Apply unet for vocals_spectrogram\n",
      "WARNING:tensorflow:From C:\\Users\\Lenovo\\AppData\\Roaming\\Python\\Python39\\site-packages\\keras\\layers\\normalization\\batch_normalization.py:514: _colocate_with (from tensorflow.python.framework.ops) is deprecated and will be removed in a future version.\n",
      "Instructions for updating:\n",
      "Colocations handled automatically by placer.\n",
      "INFO:tensorflow:Apply unet for accompaniment_spectrogram\n",
      "INFO:tensorflow:Done calling model_fn.\n",
      "INFO:tensorflow:Graph was finalized.\n",
      "INFO:tensorflow:Restoring parameters from pretrained_models\\2stems\\model\n",
      "INFO:tensorflow:Running local_init_op.\n",
      "INFO:tensorflow:Done running local_init_op.\n"
     ]
    }
   ],
   "source": [
    "import os\n",
    "import tempfile\n",
    "from spleeter.separator import Separator\n",
    "from pydub import AudioSegment\n",
    "\n",
    "songdir = 'song_directory'\n",
    "output_directory = 'output_directory'\n",
    "\n",
    "separator = Separator('spleeter:2stems')\n",
    "\n",
    "os.makedirs(output_directory, exist_ok=True)\n",
    "\n",
    "for file in os.listdir(songdir):\n",
    "    if file.endswith(\".mp3\"):\n",
    "        basename = os.path.splitext(file)[0]\n",
    "        audio_path = os.path.join(songdir, file)\n",
    "\n",
    "        with tempfile.TemporaryDirectory() as tempdir:\n",
    "            wav_filename = f\"converted_audio_{basename}.wav\"\n",
    "            wav_path = os.path.join(tempdir, wav_filename)\n",
    "\n",
    "            audio = AudioSegment.from_file(audio_path)\n",
    "            audio.export(wav_path, format=\"wav\")\n",
    "\n",
    "            separator.separate_to_file(wav_path, output_directory)\n"
   ]
  },
  {
   "cell_type": "code",
   "execution_count": 3,
   "id": "9ad1bb3b",
   "metadata": {},
   "outputs": [],
   "source": [
    "from pydub import AudioSegment\n",
    "\n",
    "song_directory = 'output_directory'\n",
    "output_directory = 'output_directory_norm'\n",
    "\n",
    "for subdir in os.listdir(song_directory):\n",
    "    subdir_path = os.path.join(song_directory, subdir)\n",
    "    if os.path.isdir(subdir_path):\n",
    "        for file in os.listdir(subdir_path):\n",
    "            if file == \"vocals.wav\":\n",
    "                file_path = os.path.join(subdir_path, file)\n",
    "                audio = AudioSegment.from_wav(file_path)\n",
    "                normalized_audio = audio.normalize()\n",
    "                norm_subdir = os.path.join(output_directory, subdir)\n",
    "                os.makedirs(norm_subdir, exist_ok=True)                \n",
    "                normalized_filename = f\"normalized_{file}\"\n",
    "                normalized_file_path = os.path.join(norm_subdir, normalized_filename)\n",
    "                normalized_audio.export(normalized_file_path, format='wav')"
   ]
  },
  {
   "cell_type": "code",
   "execution_count": 5,
   "id": "49234cfe",
   "metadata": {},
   "outputs": [
    {
     "name": "stdout",
     "output_type": "stream",
     "text": [
      "Transcription for normalized_vocals.wav:  Hold me close till I get up Time is belly out our side I don't wanna waste what's left The storms we're chasing leading us And love is all we'll ever trust Yeah, no, I don't wanna waste what's left And I know we'll go Through the wastelands, through the highways Till my shadow turns to sun rays And I know, and I know we'll go Through the wastelands, through the highways And I know, and I know we'll go Oh, we're both Finding life along the way, melodies we haven't played No, I don't want no rest Echoing around these walls, fighting to create a song I don't wanna miss a beat We'll call through the wastelands, through the highways Through my shadow, through the sun rays And on and on we'll go Through the wastelands, through the highways And on and on we'll go We'll grow in number, fueled by them to see the horizon, turn us to thousands And now and then we'll go Through the wastelands through the hellish From the shadow to the summer east And now and then we'll go Through the wastelands through the hellish And now and then we'll go you\n",
      "Transcription for normalized_vocals.wav:  Who is on the bus go round and round, round and round, round and round? Who is on the bus go round and round all day long? They fell on the frustras, pinking, pinking, pinking, pinking, pinking. They fell on the frustras, pinking, pinking all day long. They're horn on the frustras, beep, beep, beep, beep, beep, beep, beep, beep, beep, beep. The horn on the bus goes beep beep beep all day long The wiper's on the bus go swish swish swish swish swish swish swish swish swish The wiper's on the bus go swish swish swish all day long The people on the bus bounce up and down, up and down, up and down That people on the bus go round and round, round and round, round and round. Thank you.\n"
     ]
    }
   ],
   "source": [
    "from transformers import pipeline\n",
    "\n",
    "# Initialize the transcription pipeline\n",
    "transcriber = pipeline(\"automatic-speech-recognition\", model=\"openai/whisper-small\")\n",
    "\n",
    "song_directory = 'output_directory_norm'\n",
    "\n",
    "for subdir in os.listdir(song_directory):\n",
    "#     print(subdir)\n",
    "    subdir_path = os.path.join(song_directory, subdir)\n",
    "#     print(subdir_path)\n",
    "    if os.path.isdir(subdir_path):\n",
    "        for file in os.listdir(subdir_path):\n",
    "#             print(file)\n",
    "            if file.endswith('.wav'):\n",
    "                # Define the full path to the audio file\n",
    "                audio_path = os.path.join(subdir_path, file)\n",
    "\n",
    "                # Transcribe the audio\n",
    "                transcription = transcriber(audio_path)\n",
    "\n",
    "                # Print the transcription result\n",
    "                print(f\"Transcription for {subdir}: {transcription['text']}\")\n"
   ]
  },
  {
   "cell_type": "code",
   "execution_count": 7,
   "id": "3ab251c0",
   "metadata": {},
   "outputs": [
    {
     "name": "stdout",
     "output_type": "stream",
     "text": [
      "Transcription for normalized_vocals.wav:  Hold me close till I get up, as I miss belly on our side. I don't wanna waste what's left, the storms we're chasing leading us, and love is all we'll ever trust. Yeah, no I don't wanna waste what's left And on and on we'll go Through the wastelands, through the highways Through my shadow, through the sun rays And on and on we'll go Through the wastelands, through the highways Heaven and non-will come Oh, oh, oh, oh, oh, oh, oh, oh, oh, oh, oh, oh, oh, oh, oh, oh, oh, oh, oh, oh, oh, oh, oh, oh, oh, oh, oh, oh, oh, oh, oh, oh, oh, oh, oh, oh, oh, oh, oh, oh, oh, oh, oh, oh, oh, oh, oh, oh, oh, oh, oh, oh, oh, oh, oh, oh, oh, oh, oh, oh, oh, oh, oh, oh, oh, oh, oh, oh, oh, oh, oh, oh, oh, oh, oh, oh, oh, oh, oh, oh, oh, oh, oh, oh, oh, oh, oh, oh, oh, oh, oh, oh, oh, oh, oh, oh, oh, oh, oh, oh, oh, oh, oh, oh, oh, oh, oh, oh, oh, oh, oh, oh, oh, oh, oh, oh, oh, oh, oh, oh, oh, oh, oh, oh, oh, oh, oh, oh, oh, oh, oh, oh, oh, oh, oh, oh, oh, oh, oh, oh, oh, oh, oh, oh, oh, oh, oh, oh, oh, oh, oh, oh, oh, oh, oh, oh, oh, oh, oh, oh, oh, oh, oh, oh, oh, oh, oh, oh, oh, oh, oh, oh, oh, oh, oh, oh, oh, oh, oh, oh, oh, oh, oh, oh, oh, oh, oh, oh, oh, oh, oh, oh, oh, oh, oh, oh, oh, oh, oh, oh, oh, oh, oh, oh, oh, oh, oh, oh, oh, oh, oh, oh, oh, oh, oh, oh, oh, oh, oh, oh, oh, oh, We haven't played No, I don't want no rest Echoing around these walls fighting to create a song I don't wanna miss a beat We'll go Through the wastelands through the highways Through my shadow, through the sun rays And on and on we'll go Through the wastelands, through the highways And on and on we'll go And we'll grow in number, fueled by love to see the horizon, turn us to thousands And we'll grow in number Fueled by love to see the horizon Turn us to thousand And on and on we'll go Through the wastelands, through the highways Through my shadow, through the sunrays And on and on we'll go Through the wastelands, through the highways And moon and moon will come\n",
      "Transcription for normalized_vocals.wav:  The wheels on the bus go round and round, round and round, round and round. The wheels on the bus go round and round all day long. They fell on the bus goes ping-ping-ping, ping-ping-ping, ping-ping-ping. They fell on the bus goes ping-ping-ping, all day long. They're horn on the bus goes beep-beep-beep, beep-beep-beep, beep-beep-beep. Peep, peep, peep, peep, peep, peep, peep, peep, peep, peep, peep, peep, peep, peep, peep, peep, peep, peep, peep, peep, peep, peep, peep, peep, peep, peep, peep, peep, peep, peep, peep, peep, peep, peep, peep, peep, peep, peep, peep, peep, peep, peep, peep, peep, peep, peep, peep, peep, peep, peep, peep, peep, peep, peep, peep, peep, peep, peep, peep, peep, peep, peep, peep, peep, peep, peep, peep, peep, peep, peep, peep, peep, peep, peep, peep, peep, peep, peep, peep, peep, peep, peep, peep, peep, peep, peep, peep, peep, peep, peep, peep, peep, peep, peep, peep, peep, peep, peep, peep, peep, peep, peep, peep, peep, peep, peep, peep, peep, peep, peep, peep, peep, peep, peep, peep, peep, peep, peep, peep, peep, peep, peep, peep, peep, peep, peep, peep, peep, peep, peep, peep, peep, peep, peep, peep, peep, peep, peep, peep, peep, peep, peep, peep, peep, peep, peep, peep, peep, The wipers on the bus go swish, swish, swish, swish, swish, swish, swish, swish, swish, swish. The wipers on the bus go swish, swish, swish, all day long. The people on the bus bounce up and down, up and down, up and down. That people on the bus bounce up and down all day long The wheels on the bus go round and round, round and round, round and round The wheels on the bus go round and round all day long The wheels on the bus go round and round all day long.\n"
     ]
    }
   ],
   "source": [
    "from transformers import pipeline\n",
    "\n",
    "# Initialize the transcription pipeline\n",
    "transcriber = pipeline(\"automatic-speech-recognition\", model=\"openai/whisper-medium\")\n",
    "\n",
    "song_directory = 'output_directory_norm'\n",
    "\n",
    "for subdir in os.listdir(song_directory):\n",
    "#     print(subdir)\n",
    "    subdir_path = os.path.join(song_directory, subdir)\n",
    "#     print(subdir_path)\n",
    "    if os.path.isdir(subdir_path):\n",
    "        for file in os.listdir(subdir_path):\n",
    "#             print(file)\n",
    "            if file.endswith('.wav'):\n",
    "                # Define the full path to the audio file\n",
    "                audio_path = os.path.join(subdir_path, file)\n",
    "\n",
    "                # Transcribe the audio\n",
    "                transcription = transcriber(audio_path)\n",
    "\n",
    "                # Print the transcription result\n",
    "                print(f\"Transcription for {subdir}: {transcription['text']}\")\n"
   ]
  },
  {
   "cell_type": "code",
   "execution_count": null,
   "id": "0b1650fb",
   "metadata": {},
   "outputs": [],
   "source": []
  },
  {
   "cell_type": "code",
   "execution_count": null,
   "id": "17e43257",
   "metadata": {},
   "outputs": [],
   "source": []
  },
  {
   "cell_type": "code",
   "execution_count": null,
   "id": "ed176ee3",
   "metadata": {
    "scrolled": true
   },
   "outputs": [],
   "source": []
  },
  {
   "cell_type": "code",
   "execution_count": null,
   "id": "b9d304b2",
   "metadata": {},
   "outputs": [],
   "source": []
  },
  {
   "cell_type": "code",
   "execution_count": null,
   "id": "7ff66275",
   "metadata": {},
   "outputs": [],
   "source": []
  }
 ],
 "metadata": {
  "kernelspec": {
   "display_name": "Python 3 (ipykernel)",
   "language": "python",
   "name": "python3"
  },
  "language_info": {
   "codemirror_mode": {
    "name": "ipython",
    "version": 3
   },
   "file_extension": ".py",
   "mimetype": "text/x-python",
   "name": "python",
   "nbconvert_exporter": "python",
   "pygments_lexer": "ipython3",
   "version": "3.9.7"
  }
 },
 "nbformat": 4,
 "nbformat_minor": 5
}
